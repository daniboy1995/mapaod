{
 "cells": [
  {
   "cell_type": "code",
   "execution_count": 5,
   "metadata": {},
   "outputs": [],
   "source": [
    "import pandas as pd\n",
    "import psycopg2"
   ]
  },
  {
   "cell_type": "code",
   "execution_count": 6,
   "metadata": {},
   "outputs": [],
   "source": [
    "# Configurações de conexão ao Redshift\n",
    "host = 'aeq-bi.czukcqgshfeu.us-east-1.redshift.amazonaws.com'\n",
    "dbname = 'bi'\n",
    "user = 'temp'\n",
    "password = 'vMrrNWTaG$7N'\n",
    "port = '5439'\n",
    "\n",
    "# Construa a string de conexão\n",
    "conn_string = f\"host={host} dbname={dbname} user={user} password={password} port={port}\""
   ]
  },
  {
   "cell_type": "code",
   "execution_count": 7,
   "metadata": {},
   "outputs": [
    {
     "name": "stderr",
     "output_type": "stream",
     "text": [
      "/var/folders/kc/z6ltzndn4vg0yhr3dj6lt_x40000gq/T/ipykernel_20816/1797433619.py:11: UserWarning: pandas only supports SQLAlchemy connectable (engine/connection) or database string URI or sqlite3 DBAPI2 connection. Other DBAPI2 objects are not tested. Please consider using SQLAlchemy.\n",
      "  df = pd.read_sql_query(query, conn)\n"
     ]
    }
   ],
   "source": [
    "# Função para obter os dados do Redshift\n",
    "def get_data_from_redshift():\n",
    "    try:\n",
    "        # Conecte-se ao Redshift\n",
    "        conn = psycopg2.connect(conn_string)\n",
    "\n",
    "        # Sua consulta SQL para obter dados com origem e destino\n",
    "        query = \"SELECT * FROM p688.origndestinationseed limit 1000\"\n",
    "\n",
    "        # Execute a consulta\n",
    "        df = pd.read_sql_query(query, conn)\n",
    "\n",
    "        # Feche a conexão\n",
    "        conn.close()\n",
    "\n",
    "        return df\n",
    "\n",
    "    except Exception as e:\n",
    "        print(\"Ocorreu um erro ao obter dados do Redshift:\", e)\n",
    "        return None\n",
    "\n",
    "# Carregue os dados do Redshift\n",
    "df = get_data_from_redshift()"
   ]
  },
  {
   "cell_type": "code",
   "execution_count": 8,
   "metadata": {},
   "outputs": [
    {
     "data": {
      "application/vnd.jupyter.widget-view+json": {
       "model_id": "f61e031adecc493997cb8eb1ee0bd578",
       "version_major": 2,
       "version_minor": 0
      },
      "text/plain": [
       "interactive(children=(SelectMultiple(description='Zona de Tráfego:', options=(1, 92, 3, 61, 76, 4, 97, 77, 34,…"
      ]
     },
     "execution_count": 8,
     "metadata": {},
     "output_type": "execute_result"
    }
   ],
   "source": [
    "import pandas as pd\n",
    "import folium\n",
    "from folium import PolyLine, Marker\n",
    "import ipywidgets as widgets\n",
    "from IPython.display import display\n",
    "\n",
    "# Crie uma função para atualizar as opções do filtro de rota com base na seleção de zona de tráfego\n",
    "def atualizar_rotas(change):\n",
    "    if change.new:\n",
    "        filtro_route.options = df[df['trafficzoneidorign'].isin(change.new)]['route'].unique()\n",
    "\n",
    "# Crie uma função para plotar o mapa com base nas seleções feitas\n",
    "def plotar_mapa(zonas_selecionadas, ticketdate_selecionada, route_selecionada):\n",
    "    # Filtra o DataFrame com base nas seleções\n",
    "    df_filtrado = df[df['trafficzoneidorign'].isin(zonas_selecionadas) &\n",
    "                     (df['ticketdate'] == ticketdate_selecionada) &\n",
    "                     (df['route'] == route_selecionada)]\n",
    "\n",
    "    # Verifique se há pelo menos uma linha válida no DataFrame filtrado\n",
    "    if not df_filtrado.empty:\n",
    "        # Crie um mapa centralizado nas coordenadas médias das origens\n",
    "        mapa = folium.Map(location=[df_filtrado['latorigem'].mean(), df_filtrado['lonorigem'].mean()], zoom_start=10)\n",
    "\n",
    "        for index, row in df_filtrado.iterrows():\n",
    "            origem = (row['latorigem'], row['lonorigem'])\n",
    "            destino = (row['latdestino'], row['londestino'])\n",
    "            rota = row['route']\n",
    "            zona = row['trafficzoneidorign']\n",
    "            \n",
    "            # Obtenha a contagem de usercards para esta rota\n",
    "            usercards_count = df_filtrado[df_filtrado['route'] == rota]['usercard'].count()\n",
    "            \n",
    "            # Crie um pop-up com informações sobre a rota e o número de usercards\n",
    "            popup_text = f\"Origem: {origem}<br>Destino: {destino}<br>Rota: {rota}<br>Usercards: {usercards_count}\"\n",
    "            \n",
    "            # Defina a cor do marcador da origem para ser diferente da cor do destino\n",
    "            cor = 'green' if origem == (row['latorigem'], row['lonorigem']) else 'red'\n",
    "            \n",
    "            # Adicione marcadores de origem e destino com a cor apropriada\n",
    "            folium.Marker(location=origem, icon=folium.Icon(color=cor), tooltip=popup_text).add_to(mapa)\n",
    "            folium.Marker(location=destino, icon=folium.Icon(color='blue'), tooltip=popup_text).add_to(mapa)\n",
    "\n",
    "            linha = PolyLine(locations=[origem, destino], color='blue', tooltip=popup_text)\n",
    "            linha.add_to(mapa)\n",
    "\n",
    "        display(mapa)\n",
    "    else:\n",
    "        print(\"Nenhum dado encontrado para as seleções feitas.\")\n",
    "\n",
    "# Crie um widget de seleção múltipla para a zona de tráfego de origem\n",
    "zonas_de_trafego = df['trafficzoneidorign'].unique()\n",
    "filtro_zona_trafego = widgets.SelectMultiple(\n",
    "    options=zonas_de_trafego,\n",
    "    description='Zona de Tráfego:',\n",
    "    disabled=False,\n",
    ")\n",
    "\n",
    "# Crie widgets de seleção para o ticketdate e a rota\n",
    "ticketdates = df['ticketdate'].unique()\n",
    "filtro_ticketdate = widgets.Dropdown(\n",
    "    options=ticketdates,\n",
    "    description='Ticket Date:',\n",
    "    disabled=False,\n",
    ")\n",
    "filtro_route = widgets.Dropdown(\n",
    "    options=df['route'].unique(),\n",
    "    description='Route:',\n",
    "    disabled=False,\n",
    ")\n",
    "\n",
    "# Defina um observador para atualizar as opções do filtro de rota com base na seleção de zona de tráfego\n",
    "filtro_zona_trafego.observe(atualizar_rotas, 'value')\n",
    "\n",
    "# Exiba os widgets de seleção\n",
    "widgets.interactive(plotar_mapa, zonas_selecionadas=filtro_zona_trafego, \n",
    "                    ticketdate_selecionada=filtro_ticketdate, route_selecionada=filtro_route)\n"
   ]
  }
 ],
 "metadata": {
  "kernelspec": {
   "display_name": "Python 3",
   "language": "python",
   "name": "python3"
  },
  "language_info": {
   "codemirror_mode": {
    "name": "ipython",
    "version": 3
   },
   "file_extension": ".py",
   "mimetype": "text/x-python",
   "name": "python",
   "nbconvert_exporter": "python",
   "pygments_lexer": "ipython3",
   "version": "3.11.5"
  },
  "orig_nbformat": 4
 },
 "nbformat": 4,
 "nbformat_minor": 2
}
